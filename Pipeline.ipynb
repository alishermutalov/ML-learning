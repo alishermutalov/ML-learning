{
  "nbformat": 4,
  "nbformat_minor": 0,
  "metadata": {
    "colab": {
      "provenance": [],
      "authorship_tag": "ABX9TyPc3lVtSO0RWcZyiByHH4NF",
      "include_colab_link": true
    },
    "kernelspec": {
      "name": "python3",
      "display_name": "Python 3"
    },
    "language_info": {
      "name": "python"
    }
  },
  "cells": [
    {
      "cell_type": "markdown",
      "metadata": {
        "id": "view-in-github",
        "colab_type": "text"
      },
      "source": [
        "<a href=\"https://colab.research.google.com/github/alishermutalov/ML-learning/blob/ml/Pipeline.ipynb\" target=\"_parent\"><img src=\"https://colab.research.google.com/assets/colab-badge.svg\" alt=\"Open In Colab\"/></a>"
      ]
    },
    {
      "cell_type": "code",
      "execution_count": 1,
      "metadata": {
        "id": "G8C-UJTt7N-m"
      },
      "outputs": [],
      "source": [
        "import pandas as pd\n",
        "import numpy as np\n",
        "import matplotlib.pyplot as plt\n",
        "import seaborn as sns\n",
        "import sklearn"
      ]
    },
    {
      "cell_type": "code",
      "source": [
        "df = pd.read_csv('https://github.com/ageron/handson-ml2/blob/master/datasets/housing/housing.csv?raw=true')\n",
        "df.head()\n",
        "from sklearn.model_selection import train_test_split\n",
        "train_set, test_set = train_test_split(df, test_size=0.2, random_state=42)\n",
        "housing = train_set.drop('median_house_value', axis=1)\n",
        "housing_labels = train_set['median_house_value'].copy()\n",
        "housing_num = housing.drop('ocean_proximity', axis=1)"
      ],
      "metadata": {
        "id": "sX7SZF_U7V9U"
      },
      "execution_count": 4,
      "outputs": []
    },
    {
      "cell_type": "code",
      "source": [
        "from sklearn.base import BaseEstimator, TransformerMixin\n",
        "\n",
        "class CombinedAttributesAdder(BaseEstimator, TransformerMixin):\n",
        "    def __init__(self, add_bedrooms_per_room = True):\n",
        "        self.add_bedrooms_per_room = add_bedrooms_per_room\n",
        "\n",
        "    def fit(self, X, y=None):\n",
        "        return self\n",
        "\n",
        "    def transform(self, X):\n",
        "        rooms_ix, bedrooms_ix, population_ix, households_ix = 3, 4, 5, 6\n",
        "        rooms_per_household = X[:, rooms_ix] / X[:, households_ix]\n",
        "\n",
        "        if self.add_bedrooms_per_room:\n",
        "            bedrooms_per_room = X[:, bedrooms_ix] / X[:, rooms_ix]\n",
        "            return np.c_[X, rooms_per_household, bedrooms_per_room]\n",
        "        else:\n",
        "            return np.c_[X, rooms_per_household]\n"
      ],
      "metadata": {
        "id": "TCJDEkwa7YEb"
      },
      "execution_count": 5,
      "outputs": []
    },
    {
      "cell_type": "code",
      "source": [
        "from sklearn.pipeline import Pipeline\n",
        "from sklearn.preprocessing import StandardScaler, OneHotEncoder\n",
        "from sklearn.impute import SimpleImputer\n",
        "\n",
        "num_pipeline = Pipeline([\n",
        "    ('imputer', SimpleImputer(strategy='median')),\n",
        "    ('attribs_adder', CombinedAttributesAdder()),\n",
        "    ('std_scaler', StandardScaler())\n",
        "])\n",
        "\n",
        "num_pipeline.fit_transform(housing_num)"
      ],
      "metadata": {
        "colab": {
          "base_uri": "https://localhost:8080/"
        },
        "id": "XWf-eRbu8lDU",
        "outputId": "879f2548-748f-44d8-b365-6ceea2d69c28"
      },
      "execution_count": 6,
      "outputs": [
        {
          "output_type": "execute_result",
          "data": {
            "text/plain": [
              "array([[ 1.27258656, -1.3728112 ,  0.34849025, ..., -0.326196  ,\n",
              "        -0.17491646, -0.2117846 ],\n",
              "       [ 0.70916212, -0.87669601,  1.61811813, ..., -0.03584338,\n",
              "        -0.40283542,  0.34218528],\n",
              "       [-0.44760309, -0.46014647, -1.95271028, ...,  0.14470145,\n",
              "         0.08821601, -0.66165785],\n",
              "       ...,\n",
              "       [ 0.59946887, -0.75500738,  0.58654547, ..., -0.49697313,\n",
              "        -0.60675918,  0.99951387],\n",
              "       [-1.18553953,  0.90651045, -1.07984112, ...,  0.96545045,\n",
              "         0.40217517, -0.79086209],\n",
              "       [-1.41489815,  0.99543676,  1.85617335, ..., -0.68544764,\n",
              "        -0.85144571,  1.69520292]])"
            ]
          },
          "metadata": {},
          "execution_count": 6
        }
      ]
    },
    {
      "cell_type": "code",
      "source": [
        "from sklearn.compose import ColumnTransformer\n",
        "\n",
        "num_attributes = list(housing_num)\n",
        "cat_attributes = ['ocean_proximity']\n",
        "\n",
        "full_pipeline = ColumnTransformer([\n",
        "    ('num', num_pipeline, num_attributes),\n",
        "    ('cat', OneHotEncoder(), cat_attributes)\n",
        "])"
      ],
      "metadata": {
        "id": "Zl5zjIGp-QIB"
      },
      "execution_count": 7,
      "outputs": []
    },
    {
      "cell_type": "code",
      "source": [
        "housing_prepared = full_pipeline.fit_transform(housing)\n",
        "housing_prepared"
      ],
      "metadata": {
        "colab": {
          "base_uri": "https://localhost:8080/"
        },
        "id": "4KjFEpVz_gzQ",
        "outputId": "ccbce9e0-74c5-4a51-99a6-c3eae3650a78"
      },
      "execution_count": 9,
      "outputs": [
        {
          "output_type": "execute_result",
          "data": {
            "text/plain": [
              "array([[ 1.27258656, -1.3728112 ,  0.34849025, ...,  0.        ,\n",
              "         0.        ,  1.        ],\n",
              "       [ 0.70916212, -0.87669601,  1.61811813, ...,  0.        ,\n",
              "         0.        ,  1.        ],\n",
              "       [-0.44760309, -0.46014647, -1.95271028, ...,  0.        ,\n",
              "         0.        ,  1.        ],\n",
              "       ...,\n",
              "       [ 0.59946887, -0.75500738,  0.58654547, ...,  0.        ,\n",
              "         0.        ,  0.        ],\n",
              "       [-1.18553953,  0.90651045, -1.07984112, ...,  0.        ,\n",
              "         0.        ,  0.        ],\n",
              "       [-1.41489815,  0.99543676,  1.85617335, ...,  0.        ,\n",
              "         1.        ,  0.        ]])"
            ]
          },
          "metadata": {},
          "execution_count": 9
        }
      ]
    },
    {
      "cell_type": "code",
      "source": [
        "housing_prepared[0:5, :]"
      ],
      "metadata": {
        "colab": {
          "base_uri": "https://localhost:8080/"
        },
        "id": "XrX19XD8_qJo",
        "outputId": "6baac37d-45f2-4f5c-e8bc-034058425817"
      },
      "execution_count": 10,
      "outputs": [
        {
          "output_type": "execute_result",
          "data": {
            "text/plain": [
              "array([[ 1.27258656, -1.3728112 ,  0.34849025,  0.22256942,  0.21122752,\n",
              "         0.76827628,  0.32290591, -0.326196  , -0.17491646, -0.2117846 ,\n",
              "         0.        ,  0.        ,  0.        ,  0.        ,  1.        ],\n",
              "       [ 0.70916212, -0.87669601,  1.61811813,  0.34029326,  0.59309419,\n",
              "        -0.09890135,  0.6720272 , -0.03584338, -0.40283542,  0.34218528,\n",
              "         0.        ,  0.        ,  0.        ,  0.        ,  1.        ],\n",
              "       [-0.44760309, -0.46014647, -1.95271028, -0.34259695, -0.49522582,\n",
              "        -0.44981806, -0.43046109,  0.14470145,  0.08821601, -0.66165785,\n",
              "         0.        ,  0.        ,  0.        ,  0.        ,  1.        ],\n",
              "       [ 1.23269811, -1.38217186,  0.58654547, -0.56148971, -0.40930582,\n",
              "        -0.00743434, -0.38058662, -1.01786438, -0.60001532,  0.78303162,\n",
              "         0.        ,  0.        ,  0.        ,  0.        ,  1.        ],\n",
              "       [-0.10855122,  0.5320839 ,  1.14200767, -0.11956547, -0.25655915,\n",
              "        -0.48587717, -0.31496232, -0.17148831,  0.3490073 , -0.55036364,\n",
              "         0.        ,  1.        ,  0.        ,  0.        ,  0.        ]])"
            ]
          },
          "metadata": {},
          "execution_count": 10
        }
      ]
    },
    {
      "cell_type": "code",
      "source": [],
      "metadata": {
        "id": "gHv8siEV_6xt"
      },
      "execution_count": null,
      "outputs": []
    }
  ]
}